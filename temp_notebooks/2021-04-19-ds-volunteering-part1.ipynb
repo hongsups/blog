{
 "cells": [
  {
   "cell_type": "code",
   "execution_count": 1,
   "id": "9f1e85ee-5200-4737-b2bc-b615a59db45c",
   "metadata": {},
   "outputs": [
    {
     "name": "stdout",
     "output_type": "stream",
     "text": [
      "Author: Hongsup Shin\n",
      "\n",
      "Last updated: 2021-04-26 20:26:53\n",
      "\n",
      "Python implementation: CPython\n",
      "Python version       : 3.7.10\n",
      "IPython version      : 7.20.0\n",
      "\n",
      "Git hash: fbb36e500f156738a756cd5c20741a0bd0af8d0b\n",
      "\n",
      "Git repo: https://github.com/hongsups/blog.git\n",
      "\n",
      "Git branch: TJI_volunteering\n",
      "\n",
      "matplotlib: 3.4.1\n",
      "pandas    : 1.2.3\n",
      "sys       : 3.7.10 | packaged by conda-forge | (default, Feb 19 2021, 15:59:12) \n",
      "[Clang 11.0.1 ]\n",
      "seaborn   : 0.11.1\n",
      "numpy     : 1.20.2\n",
      "\n"
     ]
    }
   ],
   "source": [
    "#hide\n",
    "import pandas as pd\n",
    "pd.set_option('precision', 2)\n",
    "import numpy as np\n",
    "import matplotlib\n",
    "import matplotlib.pyplot as plt\n",
    "import seaborn as sns\n",
    "import sys\n",
    "\n",
    "plt.style.use('ggplot')\n",
    "%config InlineBackend.figure_format = 'retina'\n",
    "colors = plt.rcParams['axes.prop_cycle'].by_key()['color']\n",
    "colors_ = plt.get_cmap('Set2')(np.linspace(0, 1, 8))\n",
    "\n",
    "from IPython.core.pylabtools import figsize\n",
    "from IPython.display import display\n",
    "figsize(8, 5)\n",
    "\n",
    "%load_ext watermark\n",
    "%load_ext autoreload\n",
    "%autoreload 2\n",
    "%matplotlib inline\n",
    "\n",
    "%watermark -d -t -u -v -g -r -b -iv -a \"Hongsup Shin\""
   ]
  },
  {
   "cell_type": "markdown",
   "id": "348a48b4-e0eb-4dac-8284-3bf2d2d04a14",
   "metadata": {
    "tags": []
   },
   "source": [
    "# Data Science Volunteering for Criminal Justice (1/2): Police Shooting in Texas"
   ]
  },
  {
   "cell_type": "markdown",
   "id": "f6a16731-3182-463d-9767-7b1435b0197a",
   "metadata": {
    "tags": []
   },
   "source": [
    "I have met several tech workers who are interested in using their technical skills in more meaningful projects particularly for social good. As a tech worker myself, I've been volunteering at several organizations about two years now. Among those, I have been volunteering at [Texas Justice Initiative (TJI)](https://texasjusticeinitiative.org/) consistently over a year where I published [a data journalism report on police shooting in Texas](https://texasjusticeinitiative.org/static/TJI_OISReport_2020.pdf) with our TJI director, [Eva Ruth Moravec](https://www.linkedin.com/in/eva-ruth-moravec-m-a-1aa9332/).\n",
    "\n",
    "In this post, I'd like to share some of my volunteering at TJI, particularly on police shooting in Texas. In the follow-up post, I will share some tips on tech volunteering at nonprofits, especially focusing on how to use machine learning and data science knowledge."
   ]
  },
  {
   "cell_type": "markdown",
   "id": "4f619511-975f-44a9-b338-8f9e19ada209",
   "metadata": {},
   "source": [
    "## Background\n",
    "\n",
    "### Police shooting in the US\n",
    "\n",
    "It's 2021 now and almost everyone in the US is aware that there is an epidemic of police brutality all over the country. Academic researchers now agree that [police contact is a significant contributing factor to health inequality and particuarly to early mortality for people of color](https://pubmed.ncbi.nlm.nih.gov/31383756/). The police brutality in the US is also internationally recognizied such as in [the 2014 report by the UN Committee Against Torture](https://www.justsecurity.org/wp-content/uploads/2014/11/UN-Committee-Against-Torture-Concluding-Observations-United-States.pdf):\n",
    "> The   Committee   is   concerned   about   numerous   reports  of   police   brutality   and excessive use of force by law enforcement officials, in particular against persons belonging to certain racial and ethnic groups, immigrants and  LGBTI individuals, racial profiling by police  and  immigration  offices  and  growing  militarization  of  policing  activities.  \n",
    "\n",
    "If the issue of police brutality is this severe, one would expect that there might be a national database of police shooting incidents. **Unfortunately, the US goverment does not maintain a national database of police shooting incidents.** Rather, most efforts to collect police shooting incidents were done by journalists: D. Brian Burghart's [Fatal Encounter](https://fatalencounters.org/) and Washington Post's [Fatal Force](https://www.washingtonpost.com/graphics/investigations/police-shootings-database/) are most populat examples. Some local goverments have pulic data portals for police shooting but they are mostly at a city level and it's rare to find a state-level database."
   ]
  },
  {
   "cell_type": "markdown",
   "id": "a349fc76-4fd2-4f7d-a7a6-b593e900d503",
   "metadata": {},
   "source": [
    "### Officer-involved shooting (OIS) data in Texas"
   ]
  },
  {
   "cell_type": "code",
   "execution_count": null,
   "id": "40235f69-2c3b-46df-b621-6b7f8a8ceb99",
   "metadata": {},
   "outputs": [],
   "source": []
  },
  {
   "cell_type": "markdown",
   "id": "7d370d07-d5f7-4c58-a0d8-51ae36df6b20",
   "metadata": {},
   "source": [
    "## Texas Justice Iniative (TJI)\n",
    "[Texas Justice Iniative (TJI)](https://texasjusticeinitiative.org/) is a criminal justice nonprofit in Austin, TX. It was founded in 2016 by Eva Ruth Moravec, a journalist, and Amanda Woog, a researcher. The main goal of TJI is to **create data portal for criminal justice in Texas**. TJI mostly relies on tech volunteers. We currently have [11 active volunteers](https://texasjusticeinitiative.org/about), including myself.\n"
   ]
  },
  {
   "cell_type": "code",
   "execution_count": null,
   "id": "34d9cddd-c280-4d86-a72c-d80c36b33f33",
   "metadata": {},
   "outputs": [],
   "source": []
  }
 ],
 "metadata": {
  "kernelspec": {
   "display_name": "Python 3",
   "language": "python",
   "name": "python3"
  },
  "language_info": {
   "codemirror_mode": {
    "name": "ipython",
    "version": 3
   },
   "file_extension": ".py",
   "mimetype": "text/x-python",
   "name": "python",
   "nbconvert_exporter": "python",
   "pygments_lexer": "ipython3",
   "version": "3.7.10"
  }
 },
 "nbformat": 4,
 "nbformat_minor": 5
}
